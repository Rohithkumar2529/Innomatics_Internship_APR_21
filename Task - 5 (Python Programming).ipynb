{
 "cells": [
  {
   "cell_type": "markdown",
   "metadata": {},
   "source": [
    "# Question-1\n",
    "You are given a string N.\n",
    "Your task is to verify that N is a floating point number.\n",
    "In this task, a valid float number must satisfy all of the following requirements:\n",
    "\n",
    "Number can start with +, - or . symbol.\n",
    "\n",
    "    For example:\n",
    "    \n",
    "    ✔+4.50\n",
    "    \n",
    "    ✔-1.0\n",
    "    \n",
    "    ✔.5\n",
    "    \n",
    "    ✔-.7\n",
    "    \n",
    "    ✔+.4\n",
    "    \n",
    "    ✖ -+4.5\n",
    "    \n",
    "Number must contain at least  decimal value.\n",
    "\n",
    "For example:\n",
    "\n",
    "✖ 12.\n",
    "\n",
    "✔ 12.0 \n",
    "\n",
    "Number must have exactly one . symbol.\n",
    "\n",
    "Number must not give any exceptions when converted using float(N).\n"
   ]
  },
  {
   "cell_type": "code",
   "execution_count": 2,
   "metadata": {},
   "outputs": [
    {
     "name": "stdout",
     "output_type": "stream",
     "text": [
      "4\n",
      "4.00\n",
      "True\n",
      "-1.00\n",
      "True\n",
      "+4.54\n",
      "True\n",
      "SomeRandomStuff\n",
      "False\n"
     ]
    }
   ],
   "source": [
    "import re\n",
    "for i in range(int(input())):\n",
    "    print (bool(re.match(r'^[-+]?[0-9]*\\.[0-9]+$', input())))"
   ]
  },
  {
   "cell_type": "markdown",
   "metadata": {},
   "source": [
    "# Question-2\n",
    "You are given a string s consisting only of digits 0-9, commas ,, and dots .\n",
    "\n",
    "Your task is to complete the regex_pattern defined below, which will be used to re.split() all of the , and . symbols in s.\n",
    "\n",
    "It’s guaranteed that every comma and every dot in s is preceeded and followed by a digit."
   ]
  },
  {
   "cell_type": "code",
   "execution_count": 5,
   "metadata": {},
   "outputs": [
    {
     "name": "stdout",
     "output_type": "stream",
     "text": [
      "10,000,000.00\n",
      "10\n",
      "000\n",
      "000\n",
      "00\n"
     ]
    }
   ],
   "source": [
    "import re\n",
    "regex_pattern = r\"[,.]\"\n",
    "print(\"\\n\".join(re.split(regex_pattern, input())))"
   ]
  },
  {
   "cell_type": "markdown",
   "metadata": {},
   "source": [
    "# Question-3\n",
    "You are given a string S.\n",
    "Your task is to find the first occurrence of an alphanumeric character in  S(read from left to right) that has consecutive repetitions."
   ]
  },
  {
   "cell_type": "code",
   "execution_count": 6,
   "metadata": {},
   "outputs": [
    {
     "name": "stdout",
     "output_type": "stream",
     "text": [
      "..12345678910111213141516171820212223\n",
      "1\n"
     ]
    }
   ],
   "source": [
    "import re\n",
    "m = re.search(r'([A-Za-z0-9])\\1+',input())\n",
    "print (m.group(1) if m else -1)"
   ]
  },
  {
   "cell_type": "markdown",
   "metadata": {},
   "source": [
    "# Question-4\n",
    "You are given a string S. It consists of alphanumeric characters, spaces and symbols(+,-).\n",
    "\n",
    "Your task is to find all the substrings of S that contains 2 or more vowels.\n",
    "\n",
    "Also, these substrings must lie in between 2 consonants and should contain vowels only.\n",
    "\n",
    "Note :\n",
    "    \n",
    "Vowels are defined as: AEIOU and aeiou.\n",
    "    \n",
    "Consonants are defined as: QWRTYPSDFGHJKLZXCVBNM and qwrtypsdfghjklzxcvbnm.\n"
   ]
  },
  {
   "cell_type": "code",
   "execution_count": 9,
   "metadata": {},
   "outputs": [
    {
     "name": "stdout",
     "output_type": "stream",
     "text": [
      "rabcdeefgyYhFjkIoomnpOeorteeeeet\n",
      "ee\n",
      "Ioo\n",
      "Oeo\n",
      "eeeee\n"
     ]
    }
   ],
   "source": [
    "import re\n",
    "\n",
    "match = re.findall(r'(?<=[^aeiouAEIOU ])[aeiouAEIOU]{2,}(?=[^aeiouAEIOU ])',input())\n",
    "\n",
    "if match:\n",
    "    for i in match:\n",
    "        print (i)\n",
    "else:\n",
    "    print (-1)"
   ]
  },
  {
   "cell_type": "markdown",
   "metadata": {},
   "source": [
    "# Question-5\n",
    "You are given a string S.\n",
    "\n",
    "Your task is to find the indices of the start and end of string k in S.\n",
    "\n",
    "\n",
    "Input Format :\n",
    "\n",
    "The first line contains the string S.\n",
    "\n",
    "The second line contains the string k."
   ]
  },
  {
   "cell_type": "code",
   "execution_count": 10,
   "metadata": {},
   "outputs": [
    {
     "name": "stdout",
     "output_type": "stream",
     "text": [
      "aaadaa\n",
      "aa\n",
      "(0, 1)\n",
      "(1, 2)\n",
      "(4, 5)\n"
     ]
    }
   ],
   "source": [
    "import re\n",
    "text, pattern = input(), input()\n",
    "match= list(re.finditer(\"(?=(%s))\"%pattern,text))\n",
    "if not match:\n",
    "    print((-1,-1))\n",
    "for i in match:\n",
    "    print((i.start(1),i.end(1)-1))"
   ]
  },
  {
   "cell_type": "markdown",
   "metadata": {},
   "source": [
    "# Question-6\n",
    "You are given a text of N lines. The text contains && and || symbols.\n",
    "Your task is to modify those symbols to the following:\n",
    "\n",
    "&& → and\n",
    "|| → or\n",
    "Both && and || should have a space \" \" on both sides."
   ]
  },
  {
   "cell_type": "code",
   "execution_count": 12,
   "metadata": {},
   "outputs": [
    {
     "name": "stdout",
     "output_type": "stream",
     "text": [
      "11\n",
      "a=1\n",
      "a=1\n",
      "b=input()\\\n",
      "b=input()\\\n",
      "\n",
      "\n",
      "if a + b > 0 && a - b < 0:\n",
      "if a + b > 0 and a - b < 0:\n",
      "  start()\n",
      "  start()\n",
      "elif a*b > 10 || a/b < 1:\n",
      "elif a*b > 10 or a/b < 1:\n",
      "  stop()\n",
      "  stop()\n",
      "print set(list(a)) | set(list(b)) \n",
      "print set(list(a)) | set(list(b)) \n",
      "#Note do not change &&& or ||| or & or |\n",
      "#Note do not change &&& or ||| or & or |\n",
      "#Only change those '&&' which have space on both sides.\n",
      "#Only change those '&&' which have space on both sides.\n",
      "#Only change those '|| which have space on both sides.\n",
      "#Only change those '|| which have space on both sides.\n"
     ]
    }
   ],
   "source": [
    "import re\n",
    "\n",
    "for i in range(int(input())):\n",
    "    string = ''\n",
    "    string = re.sub(r'(?<= )&&(?= )','and',input())\n",
    "    string = re.sub(r'(?<= )\\|\\|(?= )','or',string)\n",
    "    print (string)"
   ]
  },
  {
   "cell_type": "markdown",
   "metadata": {},
   "source": [
    "# Question-7\n",
    "You are given a string, and you have to validate whether it's a valid Roman numeral. If it is valid, print True. Otherwise, print False. Try to create a regular expression for a valid Roman numeral.\n",
    "\n",
    "Input Format\n",
    "\n",
    "A single line of input containing a string of Roman characters.\n",
    "\n",
    "Output Format\n",
    "\n",
    "Output a single line containing True or False according to the instructions above."
   ]
  },
  {
   "cell_type": "code",
   "execution_count": 13,
   "metadata": {},
   "outputs": [
    {
     "name": "stdout",
     "output_type": "stream",
     "text": [
      "CDXXI\n",
      "True\n"
     ]
    }
   ],
   "source": [
    "thousand = 'M{0,3}'\n",
    "hundred = '(C[MD]|D?C{0,3})'\n",
    "ten = '(X[CL]|L?X{0,3})'\n",
    "digit = '(I[VX]|V?I{0,3})'\n",
    "regex_pattern = r\"%s%s%s%s$\" % (thousand, hundred, ten, digit)\n",
    "\n",
    "import re\n",
    "print(str(bool(re.match(regex_pattern, input()))))"
   ]
  },
  {
   "cell_type": "markdown",
   "metadata": {},
   "source": [
    "# Question-8\n",
    "Let's dive into the interesting topic of regular expressions! You are given some input, and you are required to check whether they are valid mobile numbers.\n",
    "\n",
    "A valid mobile number is a ten digit number starting with a 7, 8 or 9.\n",
    "\n",
    "Concept :\n",
    "\n",
    "A valid mobile number is a ten digit number starting with a 7, 8 or 9.\n",
    "Regular expressions are a key concept in any programming language. A quick explanation with Python examples is available here. You could also go through the link below to read more about regular expressions in Python.\n",
    "\n",
    "Input Format :\n",
    "\n",
    "The first line contains an integer N, the number of inputs.\n",
    "N lines follow, each containing some string."
   ]
  },
  {
   "cell_type": "code",
   "execution_count": 14,
   "metadata": {},
   "outputs": [
    {
     "name": "stdout",
     "output_type": "stream",
     "text": [
      "2\n",
      "9587456281\n",
      "YES\n",
      "1252478965\n",
      "NO\n"
     ]
    }
   ],
   "source": [
    "import re\n",
    "for i in range(int(input())):\n",
    "    print ('YES' if re.search(r\"^[789]\\d{9}$\",input()) else 'NO')"
   ]
  },
  {
   "cell_type": "markdown",
   "metadata": {},
   "source": [
    "# Question-9\n",
    "A valid email address meets the following criteria:\n",
    "\n",
    "It's composed of a username, domain name, and extension assembled in this format: username@domain.extension\n",
    "\n",
    "The username starts with an English alphabetical character, and any subsequent characters consist of one or more of the following: alphanumeric characters, -,., and _.\n",
    "\n",
    "The domain and extension contain only English alphabetical characters.\n",
    "The extension is 1, 2, or 3 characters in length.\n",
    "\n",
    "Given n pairs of names and email addresses as input, print each name and email address pair having a valid email address on a new line.\n",
    "\n",
    "Hint : Try using Email.utils() to complete this challenge. For example, this code:\n",
    "\n",
    "Input Format :\n",
    "\n",
    "The first line contains a single integer, n, denoting the number of email address.\n",
    "Each line i of the n subsequent lines contains a name and an email address as two space-separated values following this format:"
   ]
  },
  {
   "cell_type": "code",
   "execution_count": 15,
   "metadata": {},
   "outputs": [
    {
     "name": "stdout",
     "output_type": "stream",
     "text": [
      "2\n",
      "DEXTER <dexter@hotmail.com>\n",
      "DEXTER <dexter@hotmail.com>\n",
      "VIRUS <virus!@variable.:p>\n"
     ]
    }
   ],
   "source": [
    "import re\n",
    "\n",
    "N = int(input())\n",
    "\n",
    "for i in range(N):\n",
    "    name, email = input().split()\n",
    "    pattern=\"<[a-z][a-zA-Z0-9\\-\\.\\_]+@[a-zA-Z]+\\.[a-zA-Z]{1,3}>\"\n",
    "    if bool(re.match(pattern, email)):\n",
    "        print(name,email)"
   ]
  },
  {
   "cell_type": "markdown",
   "metadata": {},
   "source": [
    "# Question-10\n",
    "CSS colors are defined using a hexadecimal (HEX) notation for the combination of Red, Green, and Blue color values (RGB).\n",
    "\n",
    "Specifications of HEX Color Code\n",
    "\n",
    "It must start with a '#' symbol.\n",
    "\n",
    "It can have  3 or 6  digits.\n",
    "\n",
    "Each digit is in the range of 0  to F. (1,...,9,0,A,B,C,D,E and F).\n",
    "\n",
    "A-F letters can be lower case. (a,b,c,d,e and f are also valid digits).\n",
    "\n",
    "Valid Hex Color Codes\n",
    "\n",
    "#FFF\n",
    "\n",
    "#025\n",
    "\n",
    "#F0A1FB\n",
    "\n",
    "Invalid Hex Color Codes\n",
    "\n",
    "#fffabg\n",
    "\n",
    "#abcf\n",
    "\n",
    "#12365erff\n",
    "\n",
    "You are given N lines of CSS code. Your task is to print all valid Hex Color Codes, in order of their occurrence from top to bottom.\n",
    "\n",
    "CSS Code Pattern\n",
    "\n",
    "Selector\n",
    "\n",
    "{\n",
    "\n",
    "    Property: Value;\n",
    "\n",
    "}\n",
    "\n",
    "Input Format\n",
    "\n",
    "\n",
    "The first line contains N, the number of code lines.\n",
    "\n",
    "The next N lines contains CSS Codes."
   ]
  },
  {
   "cell_type": "code",
   "execution_count": 18,
   "metadata": {},
   "outputs": [
    {
     "name": "stdout",
     "output_type": "stream",
     "text": [
      "11\n",
      "#BED\n",
      "{\n",
      "  color: #FfFdF8; background-color:#aef;\n",
      "#FfFdF8\n",
      "#aef\n",
      "font-size:123px;\n",
      "background: -webkit-linear-gradient(top, #f9f9f9, #fff);\n",
      "#f9f9f9\n",
      "#fff\n",
      "}\n",
      "#Cab\n",
      "{\n",
      " background-color: #ABC;\n",
      "#ABC\n",
      " border: 2px dashed #fff;\n",
      "#fff\n",
      "}\n"
     ]
    }
   ],
   "source": [
    "import re\n",
    "\n",
    "T = int(input())\n",
    "in_css = False\n",
    "for i in range(T):\n",
    "    s = input()\n",
    "    if '{' in s:\n",
    "        in_css = True\n",
    "    elif '}' in s:\n",
    "        in_css = False\n",
    "    elif in_css:\n",
    "        for color in re.findall('#[0-9a-fA-F]{3,6}', s):\n",
    "            print(color)"
   ]
  },
  {
   "cell_type": "markdown",
   "metadata": {},
   "source": [
    "# Question-11\n",
    "You are given an HTML code snippet of N lines.\n",
    "Your task is to print start tags, end tags and empty tags separately.\n",
    "Format your results in the following way:\n",
    "    \n",
    "Start : Tag1\n",
    "    \n",
    "End   : Tag1\n",
    "    \n",
    "Start : Tag2\n",
    "    \n",
    "-> Attribute2[0] > Attribute_value2[0]\n",
    "\n",
    "-> Attribute2[1] > Attribute_value2[1]\n",
    "\n",
    "-> Attribute2[2] > Attribute_value2[2]\n",
    "\n",
    "Start : Tag3\n",
    "    \n",
    "-> Attribute3[0] > None\n",
    "\n",
    "Empty : Tag4\n",
    "    \n",
    "-> Attribute4[0] > Attribute_value4[0]\n",
    "\n",
    "End   : Tag3\n",
    "    \n",
    "End   : Tag2\n",
    "    \n",
    "Here, the -> symbol indicates that the tag contains an attribute. It is immediately followed by the name of the attribute and the attribute value.\n",
    "The > symbol acts as a separator of the attribute and the attribute value.\n",
    "\n",
    "If an HTML tag has no attribute then simply print the name of the tag.\n",
    "\n",
    "If an attribute has no attribute value then simply print the name of the attribute value as None.\n",
    "\n",
    "Note: Do not detect any HTML tag, attribute or attribute value inside the HTML comment tags (<!-- Comments -->).Comments can be multiline as well.\n",
    "\n",
    "Input Format\n",
    "\n",
    "The first line contains integer N , the number of lines in a HTML code snippet.\n",
    "The next N lines contain HTML code."
   ]
  },
  {
   "cell_type": "code",
   "execution_count": 22,
   "metadata": {},
   "outputs": [
    {
     "name": "stdout",
     "output_type": "stream",
     "text": [
      "2\n",
      "<html><head><title>HTML Parser - I</title></head>\n",
      "<body data-modal-target class='1'><h1>HackerRank</h1><br /></body></html>\n",
      "Start : html\n",
      "Start : head\n",
      "Start : title\n",
      "End   : title\n",
      "End   : head\n",
      "Start : body\n",
      "-> data-modal-target > None\n",
      "-> class > 1\n",
      "Start : h1\n",
      "End   : h1\n",
      "Empty : br\n",
      "End   : body\n",
      "End   : html\n"
     ]
    }
   ],
   "source": [
    "from html.parser import HTMLParser\n",
    "class MyHTMLParser(HTMLParser):\n",
    "    def handle_starttag(self, tag, attrs):        \n",
    "        print ('Start :',tag)\n",
    "        for ele in attrs:\n",
    "            print ('->',ele[0],'>',ele[1])\n",
    "            \n",
    "    def handle_endtag(self, tag):\n",
    "        print ('End   :',tag)\n",
    "        \n",
    "    def handle_startendtag(self, tag, attrs):\n",
    "        print ('Empty :',tag)\n",
    "        for ele in attrs:\n",
    "            print ('->',ele[0],'>',ele[1])\n",
    "            \n",
    "MyParser = MyHTMLParser()\n",
    "MyParser.feed(''.join([input().strip() for _ in range(int(input()))]))"
   ]
  },
  {
   "cell_type": "markdown",
   "metadata": {},
   "source": [
    "# Question-12\n",
    "You are given an HTML code snippet of N lines.\n",
    "Your task is to print the single-line comments, multi-line comments and the data.\n",
    "Print the result in the following format:\n",
    "\n",
    "    >>> Single-line Comment  \n",
    "\n",
    "    Comment\n",
    "\n",
    "    >>> Data                 \n",
    "\n",
    "    My Data\n",
    "\n",
    "    >>> Multi-line Comment  \n",
    "\n",
    "    Comment_multiline[0]\n",
    "\n",
    "    Comment_multiline[1]\n",
    "\n",
    "    >>> Data\n",
    "\n",
    "    My Data\n",
    "\n",
    "    >>> Single-line Comment:  \n",
    "\n",
    "Note: Do not print data if data == '\\n'.\n",
    "\n",
    "Input Format\n",
    "\n",
    "The first line contains integer N, the number of lines in the HTML code snippet.\n",
    "The next N lines contains HTML code."
   ]
  },
  {
   "cell_type": "code",
   "execution_count": 25,
   "metadata": {},
   "outputs": [
    {
     "name": "stdout",
     "output_type": "stream",
     "text": [
      "4\n",
      "<!--[if IE 9]>IE9-specific content\n",
      "<![endif]-->\n",
      "<div> Welcome to HackerRank</div>\n",
      "<!--[if IE 9]>IE9-specific content<![endif]-->\n",
      ">>> Multi-line Comment \n",
      " [if IE 9]>IE9-specific content\n",
      "<![endif]\n",
      ">>> Data\n",
      "  Welcome to HackerRank\n",
      ">>> Single-line Comment \n",
      " [if IE 9]>IE9-specific content<![endif]\n"
     ]
    }
   ],
   "source": [
    "import re\n",
    "from html.parser import HTMLParser\n",
    "\n",
    "class MyHTMLParser(HTMLParser):\n",
    "    def handle_comment(self, data):\n",
    "        if re.findall(r'\\n',data):\n",
    "            print (\">>> Multi-line Comment \\n\",data)\n",
    "        else:\n",
    "            print (\">>> Single-line Comment \\n\",data)\n",
    "            \n",
    "    def handle_data(self, data):\n",
    "        if len(data) >1:\n",
    "            print (\">>> Data\\n\",data)\n",
    "html = \"\"       \n",
    "for i in range(int(input())):\n",
    "    html += input().rstrip()\n",
    "    html += '\\n'\n",
    "    \n",
    "parser = MyHTMLParser()\n",
    "parser.feed(html)\n",
    "parser.close()"
   ]
  },
  {
   "cell_type": "code",
   "execution_count": null,
   "metadata": {},
   "outputs": [],
   "source": [
    "from html.parser import HTMLParser\n",
    "\n",
    "class MyHTMLParser(HTMLParser):\n",
    "    def handle_comment(self, data):\n",
    "        if '\\n' not in data:\n",
    "            print('>>> Single-line Comment')\n",
    "            print(data)\n",
    "        elif '\\n' in data:\n",
    "            print('>>> Multi-line Comment')\n",
    "            print(data)\n",
    "    def handle_data(self, data):\n",
    "        if data != '\\n':\n",
    "            print('>>> Data')\n",
    "            print(data)\n",
    "html = \"\"       \n",
    "for i in range(int(input())):\n",
    "    html += input().rstrip()\n",
    "    html += '\\n'\n",
    "\n",
    "parser = MyHTMLParser()\n",
    "parser.feed(html)\n",
    "parser.close()"
   ]
  },
  {
   "cell_type": "markdown",
   "metadata": {},
   "source": [
    "# Question-13\n",
    "You are given an HTML code snippet of N lines.\n",
    "Your task is to detect and print all the HTML tags, attributes and attribute values.\n",
    "\n",
    "Print the detected items in the following format:\n",
    "\n",
    "Tag1\n",
    "\n",
    "Tag2\n",
    "\n",
    "-> Attribute2[0] > Attribute_value2[0]\n",
    "\n",
    "-> Attribute2[1] > Attribute_value2[1]\n",
    "\n",
    "-> Attribute2[2] > Attribute_value2[2]\n",
    "\n",
    "Tag3\n",
    "\n",
    "-> Attribute3[0] > Attribute_value3[0]\n",
    "\n",
    "\n",
    "The -> symbol indicates that the tag contains an attribute. It is immediately followed by the name of the attribute and the attribute value.\n",
    "The > symbol acts as a separator of attributes and attribute values.\n",
    "\n",
    "If an HTML tag has no attribute then simply print the name of the tag.\n",
    "\n",
    "Note: Do not detect any HTML tag, attribute or attribute value inside the HTML comment tags (<!-- Comments -->). Comments can be multiline.\n",
    "All attributes have an attribute value."
   ]
  },
  {
   "cell_type": "code",
   "execution_count": 26,
   "metadata": {},
   "outputs": [
    {
     "name": "stdout",
     "output_type": "stream",
     "text": [
      "9\n",
      "<head>\n",
      "<title>HTML</title>\n",
      "</head>\n",
      "<object type=\"application/x-flash\"\n",
      "data=\"your-file.swf\"\n",
      "width=\"0\" height=\"0\">\n",
      "<!-- <param name=\"movie\" value=\"your-file.swf\" /> -->\n",
      " <param name=\"quality\" value=\"high\"/>\n",
      "</object>\n",
      "head\n",
      "title\n",
      "object\n",
      "-> type > application/x-flash\n",
      "-> data > your-file.swf\n",
      "-> width > 0\n",
      "-> height > 0\n",
      "param\n",
      "-> name > quality\n",
      "-> value > high\n"
     ]
    }
   ],
   "source": [
    "from html.parser import HTMLParser\n",
    "\n",
    "class MyHTMLParser(HTMLParser):\n",
    "    def handle_starttag(self, tag, attrs):\n",
    "        print(tag)\n",
    "        for attr, value in attrs:\n",
    "            print(\"->\", attr, \">\", value)\n",
    "\n",
    "    def handle_startendtag(self, tag, attrs):\n",
    "        print(tag)\n",
    "        for attr, value in attrs:\n",
    "            print(\"->\", attr, \">\", value)\n",
    "\n",
    "html = ''\n",
    "for _ in range(int(input())):\n",
    "    html += input().rstrip() + '\\n'\n",
    "\n",
    "parser = MyHTMLParser()\n",
    "parser.feed(html)\n",
    "parser.close()"
   ]
  },
  {
   "cell_type": "markdown",
   "metadata": {},
   "source": [
    "# Question-14\n",
    "ABCXYZ company has up to 100 employees.\n",
    "The company decides to create a unique identification number (UID) for each of its employees.\n",
    "The company has assigned you the task of validating all the randomly generated UIDs.\n",
    "\n",
    "A valid UID must follow the rules below:\n",
    "\n",
    "It must contain at least 2 uppercase English alphabet characters.\n",
    "\n",
    "It must contain at least 3 digits (0 - 9).\n",
    "\n",
    "It should only contain alphanumeric characters ( a-z , A - Z & 0 - 9).\n",
    "\n",
    "No character should repeat.\n",
    "\n",
    "There must be exactly 10 characters in a valid UID.\n",
    "\n",
    "Input Format\n",
    "\n",
    "The first line contains an integer , the number of test cases.\n",
    "The next  lines contains an employee's UID."
   ]
  },
  {
   "cell_type": "code",
   "execution_count": 27,
   "metadata": {},
   "outputs": [
    {
     "name": "stdout",
     "output_type": "stream",
     "text": [
      "2\n",
      "B1CD102354\n",
      "Invalid\n",
      "B1CDEF2354\n",
      "Valid\n"
     ]
    }
   ],
   "source": [
    "import re\n",
    "\n",
    "for i in range(int(input())):\n",
    "    N = input().strip()\n",
    "    if N.isalnum() and len(N) == 10:\n",
    "        if bool(re.search(r'(.*[A-Z]){2,}',N)) and bool(re.search(r'(.*[0-9]){3,}',N)):\n",
    "            if re.search(r'.*(.).*\\1+.*',N):\n",
    "                print('Invalid')\n",
    "            else:\n",
    "                print('Valid')\n",
    "        else:\n",
    "            print('Invalid')\n",
    "    else:\n",
    "        print('Invalid')"
   ]
  },
  {
   "cell_type": "markdown",
   "metadata": {},
   "source": [
    "# Question-15\n",
    "You and Fredrick are good friends. Yesterday, Fredrick received N credit cards from ABCD Bank. He wants to verify whether his credit card numbers are valid or not. You happen to be great at regex so he is asking for your help!\n",
    "A valid credit card from ABCD Bank has the following characteristics:  \n",
    "\n",
    "► It must start with a 4, 5 or 6.\n",
    "\n",
    "► It must contain exactly 16 digits.\n",
    "\n",
    "► It must only consist of digits (0-9).\n",
    "\n",
    "► It may have digits in groups of 4, separated by one hyphen \"-\".\n",
    "\n",
    "► It must NOT use any other separator like ' ' , '_', etc.\n",
    "\n",
    "► It must NOT have 4 or more consecutive repeated digits.\n"
   ]
  },
  {
   "cell_type": "code",
   "execution_count": 28,
   "metadata": {},
   "outputs": [
    {
     "name": "stdout",
     "output_type": "stream",
     "text": [
      "6\n",
      "4123456789123456\n",
      "Valid\n",
      "5123-4567-8912-3456\n",
      "Valid\n",
      "61234-567-8912-3456\n",
      "Invalid\n",
      "4123356789123456\n",
      "Valid\n",
      "5133-3367-8912-3456\n",
      "Invalid\n",
      "5123 - 3567 - 8912 - 3456\n",
      "Invalid\n"
     ]
    }
   ],
   "source": [
    "import re\n",
    "for i in range(int(input())):\n",
    "    S = input().strip()\n",
    "    pre_match = re.search(r'^[456]\\d{3}(-?)\\d{4}\\1\\d{4}\\1\\d{4}$',S)\n",
    "    if pre_match:\n",
    "        processed_string = \"\".join(pre_match.group(0).split('-'))\n",
    "        final_match = re.search(r'(\\d)\\1{3,}',processed_string)\n",
    "        if final_match:\n",
    "            print('Invalid')\n",
    "        else :\n",
    "            print('Valid')\n",
    "    else:\n",
    "        print('Invalid')"
   ]
  },
  {
   "cell_type": "markdown",
   "metadata": {},
   "source": [
    "# Question-16\n",
    " A valid postal code  have to fullfil both below requirements:\n",
    " must be a number in the range from  to  inclusive.\n",
    " must not contain more than one alternating repetitive digit pair.\n",
    "Alternating repetitive digits are digits which repeat immediately after the next digit. In other words, an alternating repetitive digit pair is formed by two equal digits that have just a single digit between them.\n",
    "\n",
    "For example:\n",
    "\n",
    "121426 # Here, 1 is an alternating repetitive digit.\n",
    "\n",
    "523563 # Here, NO digit is an alternating repetitive digit.\n",
    "\n",
    "552523 # Here, both 2 and 5 are alternating repetitive digits.\n",
    "\n",
    "\n",
    "Your task is to provide two regular expressions regex_integer_in_range and regex_alternating_repetitive_digit_pair. Where:\n",
    "\n",
    "regex_integer_in_range should match only integers range from 100000 to 999999 inclusive\n",
    "\n",
    "regex_alternating_repetitive_digit_pair should find alternating repetitive digits pairs in a given string.\n",
    "\n",
    "Both these regular expressions will be used by the provided code template to check if the input string  is a valid postal code using the following expression:\n",
    "\n",
    "(bool(re.match(regex_integer_in_range, P)) \n",
    "and len(re.findall(regex_alternating_repetitive_digit_pair, P)) < 2)"
   ]
  },
  {
   "cell_type": "code",
   "execution_count": 31,
   "metadata": {},
   "outputs": [
    {
     "name": "stdout",
     "output_type": "stream",
     "text": [
      "110000\n",
      "False\n"
     ]
    }
   ],
   "source": [
    "import re\n",
    "\n",
    "regex_integer_in_range = r\"^[1-9]\\d{5}$\"\n",
    "regex_alternating_repetitive_digit_pair = r\"(\\d)(?=\\d\\1)\"\n",
    "\n",
    "P = input()\n",
    "print (len(re.findall(r'(?=(\\d)\\d\\1)',P)) < 2 and bool(re.match(r'^[1-9][0-9]{5}$',P)))"
   ]
  },
  {
   "cell_type": "markdown",
   "metadata": {},
   "source": [
    "# Question-17\n",
    "Neo has a complex matrix script. The matrix script is a N X M grid of strings. It consists of alphanumeric characters, spaces and symbols (!,@,#,$,%,&).\n",
    "Matrix Script in Python - HackerRank Solution\n",
    "\n",
    "To decode the script, Neo needs to read each column and select only the alphanumeric characters and connect them. Neo reads the column from top to bottom and starts reading from the leftmost column.\n",
    "\n",
    "If there are symbols or spaces between two alphanumeric characters of the decoded script, then Neo replaces them with a single space '' for better readability.\n",
    "\n",
    "Neo feels that there is no need to use 'if' conditions for decoding.\n",
    "Alphanumeric characters consist of: [A-Z, a-z, and 0-9]."
   ]
  },
  {
   "cell_type": "code",
   "execution_count": 36,
   "metadata": {},
   "outputs": [
    {
     "name": "stdout",
     "output_type": "stream",
     "text": [
      "7 3\n",
      "Tsi\n",
      "h%x\n",
      "i #\n",
      "sM\n",
      "$a\n",
      "#t%\n",
      "ir!\n",
      "This is Matr\n"
     ]
    }
   ],
   "source": [
    "import re\n",
    "n,m =map(int,(input().split()))\n",
    "a,b = [],\"\"\n",
    "for _ in range(n):\n",
    "    a.append(input())\n",
    "    \n",
    "for z in zip(*a):\n",
    "    b +=\"\".join(z)\n",
    "\n",
    "print(re.sub(r\"(?<=\\w)([^\\w]+)(?=\\w)\",\" \",b))"
   ]
  },
  {
   "cell_type": "code",
   "execution_count": null,
   "metadata": {},
   "outputs": [],
   "source": []
  }
 ],
 "metadata": {
  "kernelspec": {
   "display_name": "Python 3",
   "language": "python",
   "name": "python3"
  },
  "language_info": {
   "codemirror_mode": {
    "name": "ipython",
    "version": 3
   },
   "file_extension": ".py",
   "mimetype": "text/x-python",
   "name": "python",
   "nbconvert_exporter": "python",
   "pygments_lexer": "ipython3",
   "version": "3.7.6"
  }
 },
 "nbformat": 4,
 "nbformat_minor": 4
}
